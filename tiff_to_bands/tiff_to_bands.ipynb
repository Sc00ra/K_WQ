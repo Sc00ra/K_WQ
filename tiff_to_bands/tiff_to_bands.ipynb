{
 "cells": [
  {
   "cell_type": "code",
   "execution_count": 2,
   "id": "525cd0b1",
   "metadata": {},
   "outputs": [],
   "source": [
    "import rasterio\n",
    "\n",
    "# Open the TIFF file\n",
    "with rasterio.open(\"super_res_output.tif\") as src:\n",
    "    for i in range(1, src.count + 1):  # Band indices start from 1\n",
    "        band = src.read(i)\n",
    "        \n",
    "        # Save each band to a separate file\n",
    "        out_meta = src.meta.copy()\n",
    "        out_meta.update({\n",
    "            \"count\": 1  # Only one band\n",
    "        })\n",
    "\n",
    "        with rasterio.open(f\"band_{i}.tif\", \"w\", **out_meta) as dst:\n",
    "            dst.write(band, 1)\n"
   ]
  },
  {
   "cell_type": "code",
   "execution_count": 3,
   "id": "e78886e0",
   "metadata": {},
   "outputs": [
    {
     "name": "stdout",
     "output_type": "stream",
     "text": [
      "Turbidity band saved successfully.\n"
     ]
    }
   ],
   "source": [
    "import rasterio\n",
    "import numpy as np\n",
    "\n",
    "# Define input file paths (adjust if filenames differ)\n",
    "b01_path = 'band_1.tif'  # Coastal band (443 nm)\n",
    "b03_path = 'band_3.tif'  # Green band (560 nm)\n",
    "\n",
    "# Load B01 and B03\n",
    "with rasterio.open(b01_path) as src:\n",
    "    B01 = src.read(1).astype('float32')\n",
    "    profile = src.profile  # Get metadata for saving output\n",
    "\n",
    "with rasterio.open(b03_path) as src:\n",
    "    B03 = src.read(1).astype('float32')\n",
    "\n",
    "# Avoid division by zero\n",
    "epsilon = 1e-10\n",
    "B01[B01 == 0] = epsilon\n",
    "\n",
    "# Calculate Turbidity (NTU)\n",
    "Turb = 8.93 * (B03 / B01) - 6.39\n",
    "\n",
    "# Save function\n",
    "def save_tif(filename, array, profile):\n",
    "    profile.update(dtype='float32', count=1)\n",
    "    with rasterio.open(filename, 'w', **profile) as dst:\n",
    "        dst.write(array.astype('float32'), 1)\n",
    "\n",
    "# Save Turbidity result\n",
    "save_tif('Turb.tif', Turb, profile)\n",
    "\n",
    "print(\"Turbidity band saved successfully.\")\n"
   ]
  }
 ],
 "metadata": {
  "kernelspec": {
   "display_name": "enviroment",
   "language": "python",
   "name": "python3"
  },
  "language_info": {
   "codemirror_mode": {
    "name": "ipython",
    "version": 3
   },
   "file_extension": ".py",
   "mimetype": "text/x-python",
   "name": "python",
   "nbconvert_exporter": "python",
   "pygments_lexer": "ipython3",
   "version": "3.12.3"
  }
 },
 "nbformat": 4,
 "nbformat_minor": 5
}
